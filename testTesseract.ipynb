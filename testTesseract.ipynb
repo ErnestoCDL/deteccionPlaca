{
 "cells": [
  {
   "cell_type": "code",
   "execution_count": 2,
   "id": "09b41ad2-2390-49d7-af67-563c0761a0a0",
   "metadata": {
    "tags": []
   },
   "outputs": [],
   "source": [
    "import cv2 \n",
    "import pytesseract\n",
    "import matplotlib.pyplot as plt"
   ]
  },
  {
   "cell_type": "code",
   "execution_count": null,
   "id": "a3a53559-9ec4-42aa-8911-da4c1811fb22",
   "metadata": {
    "tags": []
   },
   "outputs": [],
   "source": [
    "pytesseract.pytesseract.tesseract_cmd = r'C:\\Program Files\\Tesseract-OCR\\tesseract'\n",
    "image = cv2.imread('C:\\\\Users\\\\ernes\\\\Documents\\\\Actividades\\\\Practicas\\\\Imagenes carros\\\\carro9.jpg')\n",
    "\n",
    "gris = cv2.cvtColor(image,cv2.COLOR_BGR2GRAY)\n",
    "gris = cv2.blur(gris,(3,3))\n",
    "plt.subplot(1, 3, 2)\n",
    "plt.title(\"OGris\")\n",
    "plt.imshow(gris)\n",
    "canny = cv2.Canny(gris,150,200)\n",
    "canny = cv2.dilate(canny, None, iterations=1)\n",
    "\n",
    "cnts,_ = cv2.findContours(canny, cv2.RETR_LIST,cv2.CHAIN_APPROX_SIMPLE)\n",
    "for c in cnts:\n",
    "    area = cv2.contourArea(c)\n",
    "    x,y,w,h = cv2.boundingRect(c)\n",
    "    epsilon = 0.09*cv2.arcLength(c,True)\n",
    "    approx = cv2.approxPolyDP(c,epsilon,True)\n",
    "    #cv2.drawContours(image,[c],0,(0,255,0),2)\n",
    "    if len(approx)==4 and area > 500:\n",
    "        cv2.drawContours(image,[c],0,(0,255,0),2)\n",
    "        proporcion =float(w)/h\n",
    "        if proporcion > 1.6:\n",
    "            print('area= ', area)\n",
    "            print(proporcion)\n",
    "            placa = gris[y:y+h,x:x+w]\n",
    "            text = pytesseract.image_to_string(placa, config='--psm 11')\n",
    "            print('Texto: ',text)\n",
    "            #cv2.imshow('placa', placa)\n",
    "#cv2.imshow('Canny',gris)\n",
    "\n",
    "cv2.imshow('Image',image)\n",
    "cv2.waitKey(0)\n",
    "cv2.destroyAllWindows()\n",
    "plt.subplot(1, 3, 1)\n",
    "plt.title(\"Bordes\")\n",
    "plt.imshow(image)\n",
    "#plt.subplot(1, 3, 2)\n",
    "#plt.title(\"OGris\")\n",
    "#plt.imshow(gris)\n",
    "plt.subplot(1, 3, 3)\n",
    "plt.title(\"Placa\")\n",
    "plt.imshow(placa)\n",
    "\n",
    "plt.show()"
   ]
  },
  {
   "cell_type": "code",
   "execution_count": null,
   "id": "0a7f08e5-1093-4e7c-9f64-464f9dbb182d",
   "metadata": {},
   "outputs": [],
   "source": []
  }
 ],
 "metadata": {
  "kernelspec": {
   "display_name": "Python 3.11 (practicasJupyter)",
   "language": "python",
   "name": "practicasjupyter"
  },
  "language_info": {
   "codemirror_mode": {
    "name": "ipython",
    "version": 3
   },
   "file_extension": ".py",
   "mimetype": "text/x-python",
   "name": "python",
   "nbconvert_exporter": "python",
   "pygments_lexer": "ipython3",
   "version": "3.11.7"
  }
 },
 "nbformat": 4,
 "nbformat_minor": 5
}
